{
 "cells": [
  {
   "cell_type": "code",
   "execution_count": 2,
   "metadata": {},
   "outputs": [
    {
     "name": "stdout",
     "output_type": "stream",
     "text": [
      "Hello World\n"
     ]
    }
   ],
   "source": [
    "print(\"Hello World\")"
   ]
  },
  {
   "cell_type": "code",
   "execution_count": 1,
   "metadata": {},
   "outputs": [
    {
     "name": "stdout",
     "output_type": "stream",
     "text": [
      "25\n"
     ]
    }
   ],
   "source": [
    "x = 10 \n",
    "y = 15\n",
    "print(x+y)"
   ]
  },
  {
   "cell_type": "code",
   "execution_count": 3,
   "metadata": {},
   "outputs": [
    {
     "name": "stdout",
     "output_type": "stream",
     "text": [
      "Gabriel\n"
     ]
    }
   ],
   "source": [
    "nome = 'Gabriel'#String\n",
    "print(nome)"
   ]
  },
  {
   "cell_type": "code",
   "execution_count": 4,
   "metadata": {},
   "outputs": [
    {
     "name": "stdout",
     "output_type": "stream",
     "text": [
      "19\n"
     ]
    }
   ],
   "source": [
    "idade = 19 #int\n",
    "print(idade)\n"
   ]
  },
  {
   "cell_type": "code",
   "execution_count": 15,
   "metadata": {},
   "outputs": [],
   "source": [
    "altura = 1.7 #float\n",
    "print(altura + \"metros\") #não funciona aparentemente a concatenação não é igual ao java"
   ]
  },
  {
   "cell_type": "code",
   "execution_count": 28,
   "metadata": {},
   "outputs": [
    {
     "name": "stdout",
     "output_type": "stream",
     "text": [
      "1.700000 Metros\n"
     ]
    }
   ],
   "source": [
    "altura = 1.7 #float\n",
    "print('%f Metros' %Altura)  # % interpolation"
   ]
  },
  {
   "cell_type": "code",
   "execution_count": 18,
   "metadata": {},
   "outputs": [
    {
     "name": "stdout",
     "output_type": "stream",
     "text": [
      "1.7 Metros\n"
     ]
    }
   ],
   "source": [
    " altura = 1.7 #float\n",
    "print('{} Metros' .format(altura)) # str.format()"
   ]
  },
  {
   "cell_type": "code",
   "execution_count": 20,
   "metadata": {},
   "outputs": [
    {
     "name": "stdout",
     "output_type": "stream",
     "text": [
      "1.7 Metros\n"
     ]
    }
   ],
   "source": [
    "altura = 1.7 #float\n",
    "print(f'{altura} Metros') # f-string"
   ]
  },
  {
   "cell_type": "code",
   "execution_count": 24,
   "metadata": {},
   "outputs": [
    {
     "name": "stdout",
     "output_type": "stream",
     "text": [
      "True\n"
     ]
    }
   ],
   "source": [
    "adulto = True #variável booleana \n",
    "print(adulto)"
   ]
  },
  {
   "cell_type": "markdown",
   "metadata": {},
   "source": [
    "# Aparentemente não é preciso especificar o tipo de dado ao declarar a variavel\n",
    "# E isso aqui é um markdown"
   ]
  },
  {
   "cell_type": "code",
   "execution_count": 25,
   "metadata": {},
   "outputs": [
    {
     "data": {
      "text/plain": [
       "'\\ncomentário\\nde\\nvárias\\nlinhas\\n\\n'"
      ]
     },
     "execution_count": 25,
     "metadata": {},
     "output_type": "execute_result"
    }
   ],
   "source": [
    "'''\n",
    "comentário\n",
    "de\n",
    "várias\n",
    "linhas\n",
    "\n",
    "'''\n",
    "#tem algo estranho ai o comentário gerou uma saída"
   ]
  },
  {
   "cell_type": "code",
   "execution_count": 29,
   "metadata": {},
   "outputs": [
    {
     "name": "stdout",
     "output_type": "stream",
     "text": [
      "Facchini\n",
      "olá Facchini\n"
     ]
    }
   ],
   "source": [
    "nome = input() # entrada de dados absurdamente mais fácil que java\n",
    "print('olá', nome)"
   ]
  },
  {
   "cell_type": "code",
   "execution_count": 7,
   "metadata": {
    "scrolled": true
   },
   "outputs": [
    {
     "name": "stdout",
     "output_type": "stream",
     "text": [
      "Digite a sua idade: 10\n"
     ]
    },
    {
     "ename": "TypeError",
     "evalue": "unsupported operand type(s) for -: 'int' and 'str'",
     "output_type": "error",
     "traceback": [
      "\u001b[1;31m---------------------------------------------------------------------------\u001b[0m",
      "\u001b[1;31mTypeError\u001b[0m                                 Traceback (most recent call last)",
      "\u001b[1;32m<ipython-input-7-bcf221b9343e>\u001b[0m in \u001b[0;36m<module>\u001b[1;34m\u001b[0m\n\u001b[0;32m      1\u001b[0m \u001b[0midade\u001b[0m \u001b[1;33m=\u001b[0m \u001b[0minput\u001b[0m\u001b[1;33m(\u001b[0m\u001b[1;34m'Digite a sua idade: '\u001b[0m\u001b[1;33m)\u001b[0m \u001b[1;31m#não compila pois toda entrada é considerada string\u001b[0m\u001b[1;33m\u001b[0m\u001b[1;33m\u001b[0m\u001b[0m\n\u001b[1;32m----> 2\u001b[1;33m \u001b[0mresto\u001b[0m \u001b[1;33m=\u001b[0m \u001b[1;36m18\u001b[0m \u001b[1;33m-\u001b[0m \u001b[0midade\u001b[0m\u001b[1;33m\u001b[0m\u001b[1;33m\u001b[0m\u001b[0m\n\u001b[0m\u001b[0;32m      3\u001b[0m \u001b[0mprint\u001b[0m\u001b[1;33m(\u001b[0m\u001b[1;34m'Faltam'\u001b[0m\u001b[1;33m,\u001b[0m \u001b[0mresto\u001b[0m\u001b[1;33m,\u001b[0m \u001b[1;34m'anos.'\u001b[0m\u001b[1;33m)\u001b[0m\u001b[1;33m\u001b[0m\u001b[1;33m\u001b[0m\u001b[0m\n",
      "\u001b[1;31mTypeError\u001b[0m: unsupported operand type(s) for -: 'int' and 'str'"
     ]
    }
   ],
   "source": [
    "idade = input('Digite a sua idade: ') #não compila pois toda entrada é considerada string\n",
    "resto = 18 - idade\n",
    "print('Faltam', resto, 'anos.')"
   ]
  },
  {
   "cell_type": "code",
   "execution_count": 3,
   "metadata": {},
   "outputs": [
    {
     "name": "stdout",
     "output_type": "stream",
     "text": [
      "Digite a sua idade: 19\n",
      "Faltam -1 anos.\n"
     ]
    }
   ],
   "source": [
    "idade = int(input('Digite a sua idade: ')) # compila pois está especificado que a entrada é um int\n",
    "resto = 18 - idade\n",
    "print('Faltam', resto, 'anos.')"
   ]
  },
  {
   "cell_type": "code",
   "execution_count": 6,
   "metadata": {
    "scrolled": false
   },
   "outputs": [
    {
     "name": "stdout",
     "output_type": "stream",
     "text": [
      "Digite um número: 4\n",
      "Digite outro número: 5\n",
      "Soma:  9\n",
      "Subtração:  -1\n",
      "Multiplicação:  20\n",
      "Divisão:  0.8\n",
      "Divisão inteira:  0\n",
      "Resto da divisão:  4\n",
      "Potência:  1024\n"
     ]
    }
   ],
   "source": [
    "numero1 = int(input('Digite um número: '))\n",
    "numero2 = int(input('Digite outro número: '))\n",
    "soma = numero1 + numero2\n",
    "subtracao = numero1 - numero2\n",
    "multiplicacao = numero1 * numero2\n",
    "divisao = numero1 / numero2 #diferente do java a divisão de int pode dar um float\n",
    "divinteira = numero1 // numero2\n",
    "resto = numero1 % numero2\n",
    "elevado = numero1 ** numero2\n",
    "print('Soma: ', soma)\n",
    "print('Subtração: ', subtracao)\n",
    "print('Multiplicação: ', multiplicacao)\n",
    "print('Divisão: ', divisao)\n",
    "print('Divisão inteira: ', divinteira)\n",
    "print('Resto da divisão: ', resto)\n",
    "print('Potência: ', elevado)"
   ]
  },
  {
   "cell_type": "code",
   "execution_count": null,
   "metadata": {},
   "outputs": [],
   "source": []
  }
 ],
 "metadata": {
  "kernelspec": {
   "display_name": "Python 3",
   "language": "python",
   "name": "python3"
  },
  "language_info": {
   "codemirror_mode": {
    "name": "ipython",
    "version": 3
   },
   "file_extension": ".py",
   "mimetype": "text/x-python",
   "name": "python",
   "nbconvert_exporter": "python",
   "pygments_lexer": "ipython3",
   "version": "3.8.3"
  }
 },
 "nbformat": 4,
 "nbformat_minor": 4
}
