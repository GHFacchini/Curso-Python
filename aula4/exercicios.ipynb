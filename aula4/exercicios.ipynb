{
 "metadata": {
  "language_info": {
   "codemirror_mode": {
    "name": "ipython",
    "version": 3
   },
   "file_extension": ".py",
   "mimetype": "text/x-python",
   "name": "python",
   "nbconvert_exporter": "python",
   "pygments_lexer": "ipython3",
   "version": "3.8.3-final"
  },
  "orig_nbformat": 2,
  "kernelspec": {
   "name": "python_defaultSpec_1597632346613",
   "display_name": "Python 3.8.3 64-bit ('base': conda)"
  }
 },
 "nbformat": 4,
 "nbformat_minor": 2,
 "cells": [
  {
   "cell_type": "markdown",
   "metadata": {},
   "source": [
    "<h1>Listas e For</h1>"
   ]
  },
  {
   "cell_type": "markdown",
   "metadata": {},
   "source": [
    "<h2>1. Crie uma lista qualquer e faça um programa que imprima cada\n",
    "elemento da lista usando o for.\n",
    " </h2>"
   ]
  },
  {
   "cell_type": "code",
   "execution_count": 1,
   "metadata": {
    "tags": []
   },
   "outputs": [
    {
     "output_type": "stream",
     "name": "stdout",
     "text": "1\n2\n4\n5\n18\n40\n10\n3\n8\n9\n"
    }
   ],
   "source": [
    "lista = [1, 2, 4, 5, 18, 40, 10, 3, 8, 9]\n",
    "for i in lista:\n",
    "    print(i)"
   ]
  },
  {
   "cell_type": "markdown",
   "metadata": {},
   "source": [
    "<h2>2. Faça um programa que imprima todos os itens de uma lista usando\n",
    "while e compare com o exercício 1. </h2>"
   ]
  },
  {
   "cell_type": "code",
   "execution_count": 5,
   "metadata": {
    "tags": []
   },
   "outputs": [
    {
     "output_type": "stream",
     "name": "stdout",
     "text": "1\n2\n4\n5\n18\n40\n10\n3\n8\n9\n"
    }
   ],
   "source": [
    "lista = [1, 2, 4, 5, 18, 40, 10, 3, 8, 9]\n",
    "i = 0\n",
    "tamanho = len(lista)\n",
    "while i < tamanho:\n",
    "    print(lista[i])\n",
    "    i+=1"
   ]
  },
  {
   "cell_type": "markdown",
   "metadata": {},
   "source": [
    "<h2>3. Faça um programa que peça para o usuário digitar um número n e\n",
    "imprima uma lista com todos os números de 0 a n-1.</h2>\n",
    "<p>Exemplo: se o usuário digitar 5, o programa deve imprimir [0, 1, 2, 3, 4]</p>"
   ]
  },
  {
   "cell_type": "code",
   "execution_count": 25,
   "metadata": {
    "tags": []
   },
   "outputs": [
    {
     "output_type": "stream",
     "name": "stdout",
     "text": "[0, 1, 2, 3, 4]\n"
    }
   ],
   "source": [
    "lista = []\n",
    "n = int(input(\"Insira um número:\"))\n",
    "if(n > 0):                          #caso o numero seja positivo\n",
    "    for i in range(n):\n",
    "        lista.append(i)\n",
    "else:                               #caso o numero seja negativo\n",
    "    for i in range(-n):\n",
    "        lista.append(-i)\n",
    "print(lista)"
   ]
  },
  {
   "cell_type": "code",
   "execution_count": 28,
   "metadata": {
    "tags": []
   },
   "outputs": [
    {
     "output_type": "stream",
     "name": "stdout",
     "text": "[0, -1, -2, -3, -4]\n"
    }
   ],
   "source": [
    "#testando o exercicio 3 com while \n",
    "lista = []\n",
    "i = 0\n",
    "n = int(input(\"Insira um número:\"))\n",
    "if(n > 0):                          #caso o numero seja positivo\n",
    "    while(i < n):\n",
    "        lista.append(i)\n",
    "        i += 1\n",
    "\n",
    "else:                               #caso o numero seja negativo\n",
    "    while(i > n):\n",
    "        lista.append(i)\n",
    "        i -= 1\n",
    "print(lista)"
   ]
  },
  {
   "cell_type": "markdown",
   "metadata": {},
   "source": [
    "<h2>4. Faça um programa que olhe todos os itens de uma lista e diga\n",
    "quantos deles são pares. </h2>"
   ]
  },
  {
   "cell_type": "code",
   "execution_count": 31,
   "metadata": {
    "tags": []
   },
   "outputs": [
    {
     "output_type": "stream",
     "name": "stdout",
     "text": "6 números pares\n"
    }
   ],
   "source": [
    "lista = [1, 23, 51, 46, 8, 32, 4, 61, 91, 32, 65, 45, 75, 48,]\n",
    "pares = 0\n",
    "for i in lista:\n",
    "    if(i % 2 == 0):\n",
    "        pares += 1\n",
    "print(pares,\"números pares\")\n"
   ]
  },
  {
   "cell_type": "markdown",
   "metadata": {},
   "source": [
    "<h2>5. Faça um programa que imprima o maior número de uma lista, sem\n",
    "usar o método max(). </h2>"
   ]
  },
  {
   "cell_type": "code",
   "execution_count": 32,
   "metadata": {
    "tags": []
   },
   "outputs": [
    {
     "output_type": "stream",
     "name": "stdout",
     "text": "91\n"
    }
   ],
   "source": [
    "lista = [1, 23, 51, 46, 8, 32, 4, 61, 91, 32, 65, 45, 75, 48,]\n",
    "aux = 0\n",
    "for i in lista:\n",
    "    if(i > aux):\n",
    "        aux = i\n",
    "print(aux)"
   ]
  },
  {
   "cell_type": "markdown",
   "metadata": {},
   "source": [
    "<h2>6. Agora usando o método max() faça um programa que imprima os três\n",
    "maiores números de uma lista. </h2>\n",
    "<p>Dica: Use o método próprio de listas .remove().</p>"
   ]
  },
  {
   "cell_type": "code",
   "execution_count": 37,
   "metadata": {
    "tags": []
   },
   "outputs": [
    {
     "output_type": "stream",
     "name": "stdout",
     "text": "91\n75\n65\n"
    }
   ],
   "source": [
    "lista = [1, 23, 51, 46, 8, 32, 4, 61, 91, 32, 65, 45, 75, 48,]\n",
    "for i in range(3):\n",
    "    print(max(lista))\n",
    "    lista.remove(max(lista))\n",
    "#funciona mas remove os 3 maiores valores da lista (então tecnicamente não são mais os 3 maiores valores)\n",
    "#posso criar uma lista auxiliar para não comprometer a principal "
   ]
  },
  {
   "cell_type": "code",
   "execution_count": 47,
   "metadata": {
    "tags": []
   },
   "outputs": [
    {
     "output_type": "stream",
     "name": "stdout",
     "text": "91\n75\n65\n[1, 23, 51, 46, 8, 32, 4, 61, 32, 45, 48]\n[1, 23, 51, 46, 8, 32, 4, 61, 32, 45, 48]\n[1, 23, 51, 46, 8, 32, 4, 61, 32, 45, 48, 3]\n[1, 23, 51, 46, 8, 32, 4, 61, 32, 45, 48, 3]\n[1, 23, 51, 46, 8, 32, 4, 61, 32, 45, 48, 3, 8]\n[1, 23, 51, 46, 8, 32, 4, 61, 32, 45, 48, 3, 8]\n"
    }
   ],
   "source": [
    "#teste da questão 6 utilizando uma lista auxiliar\n",
    "lista = [1, 23, 51, 46, 8, 32, 4, 61, 91, 32, 65, 45, 75, 48,]\n",
    "lista_aux = lista # ATENCAO  quando a lista_aux recebe lista as duas sofrem as mesmas alteracoes\n",
    "for i in range(3):\n",
    "    print(max(lista_aux)) \n",
    "    lista_aux.remove(max(lista_aux))\n",
    "\n",
    "print(lista)    #Os 3 maiores numeros retirados da lista_aux também foram retirados da lista\n",
    "print(lista_aux)\n",
    "\n",
    "\n",
    "\n",
    "#mais testes para ficar mais claro\n",
    "lista.append(3) #ao adicionar 3 no final da lista também é adicionado 3 ao final da lista_aux\n",
    "print(lista)\n",
    "print(lista_aux)\n",
    "\n",
    "lista_aux.append(8) #ao adicionar 8 no final da lista_aux também é adicionado 8 no final da lista\n",
    "print(lista)\n",
    "print(lista_aux)"
   ]
  },
  {
   "cell_type": "markdown",
   "metadata": {},
   "source": [
    "<h2>7. Faça um programa que, dadas duas listas de mesmo tamanho, crie\n",
    "uma nova lista com cada elemento igual a soma dos elementos da\n",
    "lista 1 com os da lista 2, na mesma posição.</h2>\n",
    "<p>Exemplo: dadas lista1 = [1, 4, 5] e lista2 = [2, 2, 3], então lista3 = [1+2, 4+2,\n",
    "5+3] = [3, 6, 8] </p>"
   ]
  },
  {
   "cell_type": "code",
   "execution_count": 53,
   "metadata": {
    "tags": []
   },
   "outputs": [
    {
     "output_type": "stream",
     "name": "stdout",
     "text": "[6, 6, 5, 9]\n"
    }
   ],
   "source": [
    "lista1 = [1 ,4 ,2 ,8]\n",
    "lista2 = [5, 2 ,3 ,1]\n",
    "lista3 = []\n",
    "for i in range(len(lista1)):\n",
    "    lista3.append(lista1[i] + lista2[i])\n",
    "print(lista3)"
   ]
  },
  {
   "cell_type": "markdown",
   "metadata": {},
   "source": [
    "<h2>8. Faça um programa que dadas duas listas de mesmo tamanho,\n",
    "imprima o produto escalar entre elas. </h2>\n",
    "\n",
    "<p>OBS: produto escalar é a soma do resultado da multiplicação entre\n",
    "o número na posição i da lista1 pelo número na posição i da lista2,\n",
    "com i variando de 0 ao tamanho da lista.</p> "
   ]
  },
  {
   "cell_type": "code",
   "execution_count": 54,
   "metadata": {
    "tags": []
   },
   "outputs": [
    {
     "output_type": "stream",
     "name": "stdout",
     "text": "27\n"
    }
   ],
   "source": [
    "lista1 = [1 ,4 ,2 ,8]\n",
    "lista2 = [5, 2 ,3 ,1]\n",
    "prod = 0\n",
    "for i in range(len(lista1)):\n",
    "    prod = prod + (lista1[i] * lista2[i])\n",
    "print(prod)\n"
   ]
  },
  {
   "cell_type": "markdown",
   "metadata": {},
   "source": [
    "\n",
    "<h2>9. Faça um programa que pede para o usuário digitar 5 números e, ao\n",
    "final, imprime uma lista com os 5 números digitados pelo usuário\n",
    "(sem converter os números para int ou float).</h2>\n",
    "\n",
    "<p>Exemplo: Se o usuário digitar 1, 5, 2, 3, 6, o programa deve imprimir a\n",
    "lista ['1','5','2','3','6']</p>"
   ]
  },
  {
   "cell_type": "code",
   "execution_count": 18,
   "metadata": {
    "tags": []
   },
   "outputs": [
    {
     "output_type": "stream",
     "name": "stdout",
     "text": "['8', '6', '5', '4', '3']\n"
    }
   ],
   "source": [
    "lista = []\n",
    "for i in range(5):\n",
    "    x = input(\"Insira o %do numero\"%(i+1))\n",
    "    lista.append(x)\n",
    "print(lista)\n"
   ]
  },
  {
   "cell_type": "markdown",
   "metadata": {},
   "source": [
    "<h2>10. Pegue a lista gerada no exercício anterior e transforme cada um dos\n",
    "itens dessa lista em um float.</h2>\n",
    "<p>OBS: Não é para alterar o programa anterior, mas sim a lista gerada\n",
    "por ele.</p>"
   ]
  },
  {
   "cell_type": "code",
   "execution_count": 19,
   "metadata": {
    "tags": []
   },
   "outputs": [
    {
     "output_type": "stream",
     "name": "stdout",
     "text": "[8.0, 6.0, 5.0, 4.0, 3.0]\n"
    }
   ],
   "source": [
    "for i in range(len(lista)):\n",
    "    lista[i] = float(lista[i])\n",
    "print(lista)\n"
   ]
  },
  {
   "cell_type": "markdown",
   "metadata": {},
   "source": [
    "<h2>11. Faça um Programa que peça as 4 notas bimestrais e mostre a média\n",
    "aritmética delas, usando listas. </h2>"
   ]
  },
  {
   "cell_type": "code",
   "execution_count": 26,
   "metadata": {
    "tags": []
   },
   "outputs": [
    {
     "output_type": "stream",
     "name": "stdout",
     "text": "A média do aluno foi: 8.0\n"
    }
   ],
   "source": [
    "lista_nota = []\n",
    "med = 0\n",
    "for i in range(4):\n",
    "    lista_nota.append(float(input(\"Insira a %da nota\"%(i+1))))\n",
    "for i in lista_nota:\n",
    "    med = med + (i/4)\n",
    "print(\"A média do aluno foi:\",med)\n",
    "    "
   ]
  },
  {
   "cell_type": "markdown",
   "metadata": {},
   "source": [
    "<h2>12. Sorteie uma lista de 10 números e imprima:</h2>\n",
    "<p>a. uma lista com os 4 primeiros números;</p>\n",
    "<p>b. uma lista com os 5 últimos números;</p>\n",
    "<p>c. uma lista contendo apenas os elementos das posições pares;</p>\n",
    "<p>d. uma lista contendo apenas os elementos das posições ímpares;</p>\n",
    "<p>e. a lista inversa da lista sorteada (isto é, uma lista que começa\n",
    "com o último elemento da lista sorteada e termina com o\n",
    "primeiro);</p>\n",
    "<p>f. uma lista inversa dos 5 primeiros números;</p>\n",
    "<p>g. uma lista inversa dos 5 últimos números.</p> "
   ]
  },
  {
   "cell_type": "code",
   "execution_count": 58,
   "metadata": {
    "tags": []
   },
   "outputs": [
    {
     "output_type": "stream",
     "name": "stdout",
     "text": "[41, 54, 95, 47, 40, 43, 54, 72, 95, 46]\n\n4 primeiros números:\n[41, 54, 95, 47]\n\n5 ultimos números:\n[43, 54, 72, 95, 46]\n\nElementos das posições pares: \n[41, 95, 40, 54, 95]\n\nElementos das posições impares: \n[54, 47, 43, 72, 46]\n\nLista inversa: \n[46, 95, 72, 54, 43, 40, 47, 95, 54, 41]\n\nLista inversa dos 5 primeiros números: \n[40, 47, 95, 54, 41]\n\nLista inversa dos 5 últimos números: \n[46, 95, 72, 54, 43]\n"
    }
   ],
   "source": [
    "#criando a lista sorteada\n",
    "import random\n",
    "random_list = []\n",
    "for i in range(10):\n",
    "    random_list.append(random.randint(0,99))\n",
    "print(random_list)\n",
    "print()\n",
    "\n",
    "#A)\n",
    "lista_a = []\n",
    "for i in random_list[:4]:\n",
    "    lista_a.append(i)\n",
    "print(\"4 primeiros números:\")\n",
    "print(lista_a)\n",
    "print()\n",
    "\n",
    "#B) Nao ficou muito claro se os 5 ultimos seriam as posicoes [5, 6, 7, 8, 9] ou [9, 8, 7, 6, 5] (vou levar em conta a primeira opcao)\n",
    "lista_b = []\n",
    "for i in random_list[-5:]:\n",
    "    lista_b.append(i)\n",
    "print(\"5 ultimos números:\")\n",
    "print(lista_b)\n",
    "print()\n",
    "\n",
    "#C)\n",
    "lista_c = []\n",
    "for i in random_list[::2]:\n",
    "    lista_c.append(i)\n",
    "print(\"Elementos das posições pares: \")\n",
    "print(lista_c)\n",
    "print()\n",
    "\n",
    "#D)\n",
    "lista_d = []\n",
    "for i in random_list[1::2]:\n",
    "    lista_d.append(i)\n",
    "print(\"Elementos das posições impares: \")\n",
    "print(lista_d)\n",
    "print()\n",
    "\n",
    "#E)\n",
    "lista_e = []\n",
    "for i in random_list:\n",
    "    lista_e.append(i)\n",
    "lista_e.reverse()\n",
    "print(\"Lista inversa: \")\n",
    "print(lista_e)\n",
    "print()\n",
    "\n",
    "#F)\n",
    "lista_f = []\n",
    "for i in random_list[:5]:\n",
    "    lista_f.append(i)\n",
    "lista_f.reverse()\n",
    "print(\"Lista inversa dos 5 primeiros números: \")\n",
    "print(lista_f)\n",
    "print()\n",
    "\n",
    "#G)\n",
    "lista_g = []\n",
    "for i in lista_b:\n",
    "    lista_g.append(i)\n",
    "lista_g.reverse()\n",
    "print(\"Lista inversa dos 5 últimos números: \")\n",
    "print(lista_g)\n",
    "\n",
    "\n",
    "\n",
    "\n"
   ]
  },
  {
   "cell_type": "markdown",
   "metadata": {},
   "source": [
    "<h2>13. Faça um programa que sorteia 10 números entre 0 e 100 e conte\n",
    "quantos números sorteados são maiores que 50. </h2>"
   ]
  },
  {
   "cell_type": "code",
   "execution_count": 63,
   "metadata": {
    "tags": []
   },
   "outputs": [
    {
     "output_type": "stream",
     "name": "stdout",
     "text": "[41, 91, 25, 84, 45, 65, 5, 41, 80, 2]\n4 números maior que 50.\n"
    }
   ],
   "source": [
    "import random\n",
    "random_list = []\n",
    "maior = 0\n",
    "for i in range(10):\n",
    "    random_list.append(random.randint(0,100))\n",
    "for i in random_list:\n",
    "    if (i > 50):\n",
    "        maior += 1\n",
    "print(random_list)\n",
    "print(maior,\"números maior que 50.\")\n"
   ]
  },
  {
   "cell_type": "markdown",
   "metadata": {},
   "source": [
    "<h2>14. Faça um programa que sorteie 10 números entre 0 e 100 e imprima:</h2>\n",
    "<p>a. o maior número sorteado;</p>\n",
    "<p>b. o menor número sorteado;</p>\n",
    "<p>c. a média dos números sorteados;</p> \n",
    "<p>d. a soma dos números sorteados.</p>  "
   ]
  },
  {
   "cell_type": "code",
   "execution_count": 74,
   "metadata": {
    "tags": []
   },
   "outputs": [
    {
     "output_type": "stream",
     "name": "stdout",
     "text": "[58, 58, 86, 5, 96, 82, 75, 32, 41, 84]\n\nO maior número:  96\nO menor número:  5\nA soma dos números:  617\nA média dos números:  61.7\n"
    }
   ],
   "source": [
    "import random\n",
    "random_list = []\n",
    "for i in range(10):\n",
    "    random_list.append(random.randint(0,100))\n",
    "print(random_list)\n",
    "print()\n",
    "\n",
    "#A)\n",
    "print(\"O maior número: \",max(random_list))\n",
    "#B)\n",
    "print(\"O menor número: \",min(random_list))\n",
    "\n",
    "#D) vou fazer a D primeiro pq é mais conveniente \n",
    "soma = 0\n",
    "for i in random_list:\n",
    "    soma = soma + i \n",
    "print(\"A soma dos números: \", soma)\n",
    " #C) agora assim a C pq é só dividir a soma por len(random_list)\n",
    "print(\"A média dos números: \", soma/len(random_list))\n"
   ]
  },
  {
   "cell_type": "markdown",
   "metadata": {},
   "source": [
    "<h1> DESAFIOS </h1>"
   ]
  },
  {
   "cell_type": "markdown",
   "metadata": {},
   "source": [
    "<h2> 1. Faça um programa que peça para o usuário digitar o nome e a idade\n",
    "de um aluno e o número de provas que esse aluno fez. Depois, o\n",
    "programa deve pedir para o usuário digitar as notas de cada prova do\n",
    "aluno. Ao final o programa deve imprimir uma lista contendo: </h2>\n",
    "<p> a. Nome do aluno na posição 0 </p>\n",
    "<p>b. Idade do aluno na posição 1</p>\n",
    "<p>c. Uma lista com todas as notas na posição 2</p>\n",
    "<p>d. A média do aluno na posição 3</p>\n",
    "<p>e. True ou False, caso a média seja maior que 5 ou não, na posição\n",
    "4 </p>\n",
    "<p> Dica: Use o que você fez nos exercícios anteriores para criar esse\n",
    "programa. \n",
    "</p>"
   ]
  },
  {
   "cell_type": "code",
   "execution_count": 95,
   "metadata": {
    "tags": []
   },
   "outputs": [
    {
     "output_type": "stream",
     "name": "stdout",
     "text": "['Gabriel', 19.0, [5.0, 5.0, 5.0, 5.0, 4.9], 4.98, False]\n"
    }
   ],
   "source": [
    "lista_aluno = [] #lista com informações do aluno\n",
    "lista_notas = [] #lista com as notas do aluno\n",
    "provas = 0\n",
    "med = 0\n",
    "lista_aluno.append(input(\"Insira a o nome do aluno: \")) #Insere nome na lista_aluno\n",
    "lista_aluno.append(float(input(\"Insira a Idade do aluno: \"))) #Insere idade na lista_aluno\n",
    "provas = int(input(\"Quantas provas o aluno realizou?: \")) #Pergunta e le o numero de provas\n",
    "\n",
    "\n",
    "for i in range(provas):\n",
    "    lista_notas.append(float(input(\"Digite a nota da %da prova\"%(i+1)))) #Cria lista de notas\n",
    "lista_aluno.append(lista_notas) #Insere a lista_notas na lista_aluno\n",
    "\n",
    "\n",
    "for i in lista_notas: #calcula media das notas\n",
    "    med = med + (i/(len(lista_notas)))\n",
    "lista_aluno.append(med) #Insere media de notas na lista_aluno \n",
    "\n",
    "lista_aluno.append(med >= 5) #Checa e insere se a media eh ou não >= 5 (na questão pede só > que 5 mas acho que foi engano)\n",
    "\n",
    "print(lista_aluno)"
   ]
  },
  {
   "cell_type": "markdown",
   "metadata": {},
   "source": [
    "<h2> 2. Faça um programa como o do item anterior, porém que imprima a\n",
    "média sem considerar a maior e menor nota do aluno (nesse caso o\n",
    "número de provas precisa ser obrigatoriamente maior que dois). </h2>\n",
    "\n",
    "<p>Dica: crie uma cópia com a lista de todas as notas antes de fazer a\n",
    "média.</p>\n"
   ]
  },
  {
   "cell_type": "code",
   "execution_count": 101,
   "metadata": {
    "tags": []
   },
   "outputs": [
    {
     "output_type": "stream",
     "name": "stdout",
     "text": "['Gabriel', 19.0, [10.0, 2.0, 3.0, 8.0, 5.0], 5.333333333333333, True]\n"
    }
   ],
   "source": [
    "lista_aluno = []\n",
    "lista_notas = []\n",
    "lista_notas_v2 = [] #lista que vai receber as notas sem a maior e a menor\n",
    "provas = 0\n",
    "med = 0\n",
    "lista_aluno.append(input(\"Insira a o nome do aluno: \")) \n",
    "lista_aluno.append(float(input(\"Insira a Idade do aluno: \"))) \n",
    "\n",
    "\n",
    "provas = int(input(\"Quantas provas o aluno realizou?: \")) \n",
    "while(provas < 3): #checa se o aluno fez pelo menos 3 provas\n",
    "    print(\"Número inválido. O aluno deve possuir pelo menos 3 provas.\")\n",
    "    provas = int(input(\"Insira um número válido de provas: \"))\n",
    "\n",
    "\n",
    "for i in range(provas):\n",
    "    lista_notas.append(float(input(\"Digite a nota da %da prova\"%(i+1)))) \n",
    "lista_aluno.append(lista_notas) \n",
    "\n",
    "for i in lista_notas: \n",
    "    lista_notas_v2.append(i) #insere as notas da lista_notas na lista auxiliar lista_notas_v2\n",
    "\n",
    "lista_notas_v2.remove(max(lista_notas_v2)) #remove a maior nota da lista auxiliar lista_notas_v2 \n",
    "lista_notas_v2.remove(min(lista_notas_v2)) #remove a menor nota da lista auxiliar lista_notas_v2\n",
    "\n",
    "\n",
    "\n",
    "for i in lista_notas_v2: #agora o for que calcula a media percorre a lista_notas_v2 ao inves da lista_notas\n",
    "    med = med + (i/(len(lista_notas_v2))) \n",
    "lista_aluno.append(med) \n",
    "\n",
    "lista_aluno.append(med >= 5)  \n",
    "print(lista_aluno)"
   ]
  },
  {
   "cell_type": "markdown",
   "metadata": {},
   "source": [
    "<h2>3. Faça um programa que pede para o usuário digitar o CPF e verifica se\n",
    "ele é válido. Para isso, primeiramente o programa deve multiplicar\n",
    "cada um dos 9 primeiros dígitos do CPF pelos números de 10 a 2 e\n",
    "somar todas as respostas. O resultado deve ser multiplicado por 10 e\n",
    "dividido por 11. O resto dessa divisão deve ser igual ao primeiro dígito\n",
    "verificador (10º dígito). Em seguida, o programa deve multiplicar cada \n",
    "um dos 10 primeiros dígitos do CPF pelos números de 11 a 2 e repetir\n",
    "o procedimento anterior para verificar o segundo dígito verificador. </h2>\n",
    "<p>Exemplo:</p>\n",
    "<p>Se o CPF for 286.255.878-87 o programa deve fazer primeiro:</p>\n",
    "<p> x = (2*10 + 8*9 + 6*8 + 2*7 + 5*6 + 5*5 + 8*4 + 7*3 + 8*2).</p>\n",
    "<p>Em seguida o programa deve testar se x*10%11 == 8 (o décimo número\n",
    "do CPF).</p>\n",
    "<p>Se sim, o programa deve calcular</p>\n",
    "<p> x = (2*11 + 8*10 + 6*9 + 2*8 + 5*7 + 5*6 + 8*5 + 7*4 + 8*3 + 8*2) </p>\n",
    "<p>e verificar se x*10%11 == 7 (o décimo primeiro número do CPF) </p>\n"
   ]
  },
  {
   "cell_type": "code",
   "execution_count": 126,
   "metadata": {
    "tags": []
   },
   "outputs": [
    {
     "output_type": "stream",
     "name": "stdout",
     "text": "cpf válido\n"
    }
   ],
   "source": [
    "cpf = []\n",
    "for i in range(11):\n",
    "    cpf.append(int(input(\"Insira o seu CPF um dígito por vez\")))\n",
    "    while(cpf[i] < 0) or (cpf[i] > 9): #verifica se foi digitado um digito valido (de 0 a 9)\n",
    "        print(\"Erro\")\n",
    "        cpf.pop()\n",
    "        cpf.append(int(input(\"Insira o seu CPF um dígito por vez\")))\n",
    "\n",
    "\n",
    "mult = 10 \n",
    "soma = 0\n",
    "resto = 0\n",
    "for i in cpf[0:9]: # multiplica os 9 primeiros numeros pelos numeros de 10 a 2\n",
    "    soma = soma + (i * mult) #mult multiplica o primeiro digito do cpf por 10 e soma a soma antiga\n",
    "    mult -= 1 #mult é decrementado em 1\n",
    "resto = (soma * 10 % 11)\n",
    "if (resto == 10): #não é avisado no exercicio mas se o resto da divisao der 10 ele deve ser considerado 0\n",
    "    resto = 0\n",
    "\n",
    "if (resto != cpf[9]):\n",
    "    print(\"cpf inválido\")\n",
    "\n",
    "else: #se o cpf for valido vai para a segunda checagem\n",
    "    mult = 11 #mult agora é 11 \n",
    "    soma = 0 #soma volta a ser 0 pq n preciso mais guardar aquele valor\n",
    "    for i in cpf[0:10]: # multiplica os 10 primeiros numeros pelos numeros de 11 a 2\n",
    "        soma = soma + (i * mult) #mult multiplica o primeiro digito do cpf por 11 e soma a soma antiga\n",
    "        mult -= 1 #mult é decrementado em 1 \n",
    "    resto = (soma * 10 % 11)\n",
    "    if(resto == 10):\n",
    "        resto = 0\n",
    "    if(resto != cpf[10]):\n",
    "        print(\"cpf inválido\")\n",
    "    else:\n",
    "        print(\"cpf válido\")\n",
    "\n",
    "    \n",
    "\n",
    "\n",
    "\n",
    "\n",
    "\n",
    "\n"
   ]
  },
  {
   "cell_type": "code",
   "execution_count": null,
   "metadata": {},
   "outputs": [],
   "source": []
  }
 ]
}