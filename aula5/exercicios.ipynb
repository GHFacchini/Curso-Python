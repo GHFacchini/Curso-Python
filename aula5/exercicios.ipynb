{
 "metadata": {
  "language_info": {
   "codemirror_mode": {
    "name": "ipython",
    "version": 3
   },
   "file_extension": ".py",
   "mimetype": "text/x-python",
   "name": "python",
   "nbconvert_exporter": "python",
   "pygments_lexer": "ipython3",
   "version": "3.8.3-final"
  },
  "orig_nbformat": 2,
  "kernelspec": {
   "name": "python_defaultSpec_1598307334597",
   "display_name": "Python 3.8.3 64-bit ('base': conda)"
  }
 },
 "nbformat": 4,
 "nbformat_minor": 2,
 "cells": [
  {
   "cell_type": "markdown",
   "metadata": {},
   "source": [
    "<h1> Strings </h1>"
   ]
  },
  {
   "cell_type": "markdown",
   "metadata": {},
   "source": [
    "<h2> 1. Faça um programa que pede para o usuário digitar uma palavra e\n",
    "imprima cada letra em uma linha.\n",
    " </h2>"
   ]
  },
  {
   "cell_type": "code",
   "execution_count": 1,
   "metadata": {
    "tags": []
   },
   "outputs": [
    {
     "output_type": "stream",
     "name": "stdout",
     "text": "a\nb\na\nc\na\nx\ni\n"
    }
   ],
   "source": [
    "palavra = input(\"Insira uma palavra: \")\n",
    "for i in palavra:\n",
    "    print(i)"
   ]
  },
  {
   "cell_type": "markdown",
   "metadata": {},
   "source": [
    "<h2>2. Faça um programa que pede para o usuário digitar uma palavra e cria\n",
    "uma nova string igual, copiando letra por letra a palavra digitada,\n",
    "depois imprima a nova string. </h2>"
   ]
  },
  {
   "cell_type": "code",
   "execution_count": 28,
   "metadata": {
    "tags": []
   },
   "outputs": [
    {
     "output_type": "stream",
     "name": "stdout",
     "text": "ABCD\n"
    }
   ],
   "source": [
    "palavra = input(\"Insira uma palavra\")\n",
    "palavra2 = \"\"\n",
    "for i in palavra:\n",
    "    palavra2 = palavra2 + i\n",
    "    \n",
    "print(palavra2)\n"
   ]
  },
  {
   "cell_type": "code",
   "execution_count": 34,
   "metadata": {
    "tags": []
   },
   "outputs": [
    {
     "output_type": "stream",
     "name": "stdout",
     "text": "aBDFcBDFeBDFgBDF\n"
    }
   ],
   "source": [
    "palavra = input(\"Insira uma palavra\")\n",
    "palavra2 = \"\"\n",
    "for i in palavra[::2]:\n",
    "    palavra2 = palavra2 + i\n",
    "\n",
    "print(palavra2)\n"
   ]
  },
  {
   "cell_type": "code",
   "execution_count": 33,
   "metadata": {
    "tags": []
   },
   "outputs": [
    {
     "output_type": "stream",
     "name": "stdout",
     "text": "BDF\n"
    }
   ],
   "source": [
    "palavra = input(\"Insira uma palavra\")\n",
    "palavra2 = \"\"\n",
    "\n",
    "for x in palavra[1::2]:\n",
    "    palavra2 = palavra2 + x.upper()\n",
    "print(palavra2)"
   ]
  },
  {
   "cell_type": "markdown",
   "metadata": {},
   "source": [
    "<h2>3. Altere o exercício anterior para que a string copiada alterne entre\n",
    "letras maiúsculas e minúsculas</h2>\n",
    "<p>Exemplo: se o usuário digitar \"latex\" o programa deve imprimir\n",
    "\"LaTeX\". </p>"
   ]
  },
  {
   "cell_type": "code",
   "execution_count": 62,
   "metadata": {
    "tags": []
   },
   "outputs": [
    {
     "output_type": "stream",
     "name": "stdout",
     "text": "abcdefgh\n['a', 'b', 'c', 'd', 'e', 'f', 'g', 'h']\n['a', 'b', 'c', 'd', 'e', 'f', 'g', 'h']\n"
    }
   ],
   "source": [
    "palavra = input(\"Insira uma palavra\")\n",
    "palavra2 = \"\"\n",
    "\n",
    "for i in palavra:\n",
    "    palavra2 = palavra2 + i\n",
    "lista_palavra = list(palavra2)   \n",
    "print(palavra2)\n",
    "print(lista_palavra)\n",
    "\n",
    "for i in lista_palavra[::2]:\n",
    "    i = i.upper()\n",
    "print(lista_palavra) "
   ]
  },
  {
   "cell_type": "code",
   "execution_count": 48,
   "metadata": {
    "tags": []
   },
   "outputs": [
    {
     "output_type": "stream",
     "name": "stdout",
     "text": "ABCDE\n"
    }
   ],
   "source": []
  },
  {
   "cell_type": "markdown",
   "metadata": {},
   "source": [
    "<h2>4. Faça um programa que pede para o usuário digitar uma palavra e cria\n",
    "uma nova string igual, porém com espaço entre cada letra, depois\n",
    "imprima a nova string:</h2>\n",
    "<p>Exemplo: se o usuário digitar \"python\" o programa deve imprimir\n",
    "\"p y t h o n \" </p>"
   ]
  },
  {
   "cell_type": "code",
   "execution_count": 1,
   "metadata": {
    "tags": []
   },
   "outputs": [
    {
     "output_type": "stream",
     "name": "stdout",
     "text": "p y t h o n\n"
    }
   ],
   "source": [
    "palavra = input()\n",
    "lista_aux = list(palavra)\n",
    "palavra = \" \".join(lista_aux)\n",
    "print(palavra)\n"
   ]
  },
  {
   "cell_type": "markdown",
   "metadata": {},
   "source": [
    "<h2>5. Faça uma função que receba uma string e retorne uma nova string\n",
    "substituindo:</h2>\n",
    "<p>'a' por '4'</p>\n",
    "<p>'e' por '3'</p>\n",
    "<p>'I' por '1'</p>\n",
    "<p>'t' por '7'</p> "
   ]
  },
  {
   "cell_type": "code",
   "execution_count": 7,
   "metadata": {
    "tags": []
   },
   "outputs": [
    {
     "output_type": "stream",
     "name": "stdout",
     "text": "frase hacker muito pica\nfr4s3 h4ck3r mu17o p1c4\n"
    }
   ],
   "source": [
    "frase = input()\n",
    "def alfa_beto(x):\n",
    "    x = x.replace(\"a\" , \"4\")\n",
    "    x = x.replace(\"e\" , \"3\")\n",
    "    x = x.replace(\"i\" , \"1\")\n",
    "    x = x.replace(\"t\" , \"7\")\n",
    "    return x\n",
    "print(frase)\n",
    "print(alfa_beto(frase))\n",
    "\n",
    "\n",
    "\n"
   ]
  },
  {
   "cell_type": "code",
   "execution_count": 7,
   "metadata": {},
   "outputs": [],
   "source": [
    "\n",
    "\n",
    "\n"
   ]
  },
  {
   "cell_type": "markdown",
   "metadata": {},
   "source": [
    "<h2>6. Faça uma função que recebe uma string e retorna ela ao contrário. </h2>\n",
    "<p>Exemplo: Recebe \"teste\" e retorna \"etset\".</p>"
   ]
  },
  {
   "cell_type": "code",
   "execution_count": 17,
   "metadata": {
    "tags": []
   },
   "outputs": [
    {
     "output_type": "stream",
     "name": "stdout",
     "text": "inverte essa frase\nesarf asse etrevni\n"
    }
   ],
   "source": [
    "frase = input()\n",
    "def inverte(x):\n",
    "    lista_aux = list(x)\n",
    "    lista_aux.reverse()\n",
    "    x = \"\".join(lista_aux)\n",
    "    return x\n",
    "print(frase)\n",
    "print(inverte(frase))\n"
   ]
  },
  {
   "cell_type": "markdown",
   "metadata": {},
   "source": [
    "<h2>7. Agora faça uma função que recebe uma palavra e diz se ela é um\n",
    "palíndromo, ou seja, se ela é igual a ela mesma ao contrário.\n",
    "Dica: Use a função do exercício 5. </h2>"
   ]
  },
  {
   "cell_type": "code",
   "execution_count": 23,
   "metadata": {
    "tags": []
   },
   "outputs": [
    {
     "output_type": "stream",
     "name": "stdout",
     "text": "subinoonibus\nTrue\n"
    }
   ],
   "source": [
    "frase = input()\n",
    "def is_palindrome(x):\n",
    "    lista_aux = list(x)\n",
    "    lista_aux.reverse()\n",
    "    x2 = \"\".join(lista_aux)\n",
    "    if x == x2:\n",
    "        return True\n",
    "    else:\n",
    "        return False\n",
    "print(frase)\n",
    "print(is_palindrome(frase))\n"
   ]
  },
  {
   "cell_type": "markdown",
   "metadata": {},
   "source": [
    "<h2>8. Faça uma função que receba um texto e uma palavra, então verifique\n",
    "se a palavra está no texto, retornando True ou False. </h2>"
   ]
  },
  {
   "cell_type": "code",
   "execution_count": 26,
   "metadata": {},
   "outputs": [
    {
     "output_type": "execute_result",
     "data": {
      "text/plain": "False"
     },
     "metadata": {},
     "execution_count": 26
    }
   ],
   "source": [
    "palavra = input(\"Insira a palavra\")\n",
    "frase = input(\"Insira a frase\")\n",
    "def in_text(x , y):\n",
    "    if x in y:\n",
    "        return True\n",
    "    else:\n",
    "        return False\n",
    "in_text(palavra, frase)"
   ]
  },
  {
   "cell_type": "markdown",
   "metadata": {},
   "source": [
    "<h2>9. Faça uma função que receba uma string que contém tanto números\n",
    "quanto letras e caracteres especiais, e que separe as letras em uma\n",
    "variável e os números em outra (os caracteres especiais podem ser\n",
    "descartados). Ao final a função deve imprimir as duas variáveis. </h2>"
   ]
  },
  {
   "cell_type": "code",
   "execution_count": 7,
   "metadata": {},
   "outputs": [],
   "source": [
    "def separa(frase):\n",
    "    frase_numeros = \"\"\n",
    "    frase_letras = \"\"\n",
    "    for i in frase:\n",
    "        if i.isdigit():\n",
    "            frase_numeros = frase_numeros + i\n",
    "        elif i.isalpha():\n",
    "            frase_letras = frase_letras + i\n",
    "    print(frase_numeros)\n",
    "    print(frase_letras)\n"
   ]
  },
  {
   "cell_type": "code",
   "execution_count": 8,
   "metadata": {
    "tags": []
   },
   "outputs": [
    {
     "output_type": "stream",
     "name": "stdout",
     "text": "1231456477\nfrasenadaavercomnada\n"
    }
   ],
   "source": [
    "frase = input(\"Insira uma string com números letras e simbolos: \")\n",
    "separa(frase)"
   ]
  },
  {
   "cell_type": "markdown",
   "metadata": {},
   "source": [
    "<h2> </h2>"
   ]
  }
 ]
}