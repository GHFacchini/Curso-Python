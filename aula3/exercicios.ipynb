{
 "metadata": {
  "language_info": {
   "codemirror_mode": {
    "name": "ipython",
    "version": 3
   },
   "file_extension": ".py",
   "mimetype": "text/x-python",
   "name": "python",
   "nbconvert_exporter": "python",
   "pygments_lexer": "ipython3",
   "version": 3
  },
  "orig_nbformat": 2,
  "kernelspec": {
   "name": "python_defaultSpec_1597097563164",
   "display_name": "Python 3.8.3 64-bit ('base': conda)"
  }
 },
 "nbformat": 4,
 "nbformat_minor": 2,
 "cells": [
  {
   "cell_type": "markdown",
   "metadata": {},
   "source": [
    "<h1> Exercicios estruturas condicionais </h1>\n",
    "<p> (Resistindo a tentação de usar o while) </p>"
   ]
  },
  {
   "cell_type": "markdown",
   "metadata": {},
   "source": [
    "<h2>1. Faça um programa que peça a idade do usuário e imprima se ele é\n",
    "maior ou menor de 18 anos.  </h2>"
   ]
  },
  {
   "cell_type": "code",
   "execution_count": 10,
   "metadata": {
    "tags": []
   },
   "outputs": [
    {
     "output_type": "stream",
     "name": "stdout",
     "text": "O usuário é menor de idade.\n"
    }
   ],
   "source": [
    "idade = float(input(\"Informe a sua idade: \"))\n",
    "if (idade >= 18):\n",
    "    print(\"O usuário é maior de idade.\")\n",
    "else:\n",
    "    print(\"O usuário é menor de idade.\")"
   ]
  },
  {
   "cell_type": "markdown",
   "metadata": {},
   "source": [
    "<h2>2. Faça um programa que peça um número e mostre se ele é positivo\n",
    "ou negativo.  </h2>"
   ]
  },
  {
   "cell_type": "code",
   "execution_count": 14,
   "metadata": {
    "tags": []
   },
   "outputs": [
    {
     "output_type": "stream",
     "name": "stdout",
     "text": "O número é negativo\n"
    }
   ],
   "source": [
    "numero = float(input(\"Informe um número: \"))\n",
    "if (numero > 0):\n",
    "    print(\"O número é positivo\")\n",
    "elif (numero < 0):\n",
    "    print(\"O número é negativo\")\n",
    "else:\n",
    "    print(\"O número é zero\")"
   ]
  },
  {
   "cell_type": "markdown",
   "metadata": {},
   "source": [
    "<h2>3. Faça um programa que dado um número digitado, mostre se ele é\n",
    "Par ou Ímpar. \n",
    " </h2>"
   ]
  },
  {
   "cell_type": "code",
   "execution_count": 33,
   "metadata": {
    "tags": []
   },
   "outputs": [
    {
     "output_type": "stream",
     "name": "stdout",
     "text": "O número é impar\n"
    }
   ],
   "source": [
    "numero = int(input(\"Informe um número INTEIRO: \"))\n",
    "if (numero % 2 == 0):\n",
    "    print(\"O número é par\")\n",
    "else:\n",
    "    print(\"O número é impar\")\n"
   ]
  },
  {
   "cell_type": "markdown",
   "metadata": {},
   "source": [
    "<h2>4. Faça um programa que peça dois números e mostre o maior deles.  </h2>"
   ]
  },
  {
   "cell_type": "code",
   "execution_count": 37,
   "metadata": {
    "tags": []
   },
   "outputs": [
    {
     "output_type": "stream",
     "name": "stdout",
     "text": "9.0 é maior que 4.0\n"
    }
   ],
   "source": [
    "numero1 = float(input(\"Informe dois números: \"))\n",
    "numero2 = float(input(\"Informe dois números: \"))\n",
    "if (numero1 > numero2):\n",
    "    print(numero1, \"é maior que\", numero2)\n",
    "elif (numero1 < numero2):\n",
    "    print(numero2, \"é maior que\", numero1)\n",
    "else:\n",
    "    print(\"Os dois números são iguais\")\n"
   ]
  },
  {
   "cell_type": "markdown",
   "metadata": {},
   "source": [
    "<h2>5. Faça um programa que leia a validade das informações:  </h2>\n",
    "<p> a. Idade: entre 0 e 150;</p>\n",
    "<p> b. Salário: maior que 0; </p>\n",
    "<p>c. Sexo: M, F ou Outro; </p>\n",
    "<p> O programa deve imprimir uma mensagem de erro para cada\n",
    "informação inválida.</p>\n",
    "\n"
   ]
  },
  {
   "cell_type": "code",
   "execution_count": 42,
   "metadata": {
    "tags": []
   },
   "outputs": [],
   "source": [
    "idade = int(input(\"Informe a sua idade: \"))\n",
    "salario = float(input(\"Informe o seu salário: \"))\n",
    "sexo = input(\"Informe o seu sexo(F/M/Outro): \")\n",
    "if (idade < 0) or (idade > 150):\n",
    "    print(\"Erro, idade inválida.\")\n",
    "if (salario < 0):\n",
    "    print(\"Erro, salário inválido.\")\n",
    "if (sexo != \"m\") and (sexo != \"M\") and (sexo != \"f\") and (sexo != \"F\") and (sexo != \"Outro\") and (sexo != \"outro\") and (sexo != \"OUTRO\"):\n",
    "    print(\"Erro, sexo inválido.\")"
   ]
  },
  {
   "cell_type": "markdown",
   "metadata": {},
   "source": [
    "<h2>6. Escreva um programa que peça a nota de 3 provas de um aluno e\n",
    "verifique se ele passou o não de ano.\n",
    "Obs.: O aluno irá passar de ano se sua média for maior que 6.  </h2>"
   ]
  },
  {
   "cell_type": "code",
   "execution_count": 49,
   "metadata": {
    "tags": []
   },
   "outputs": [
    {
     "output_type": "stream",
     "name": "stdout",
     "text": "O aluno foi reporvado\n"
    }
   ],
   "source": [
    "nota1 = float(input(\"Nota da primeira prova:\")) \n",
    "nota2 = float(input(\"Nota da segunda prova:\"))\n",
    "nota3 = float(input(\"Nota da terceira prova:\"))\n",
    "media = ((nota1 + nota2 + nota3)/3)\n",
    "if (media >= 6): #Enunciado diz apenas > porém vou levar em conta >=\n",
    "    print(\"O aluno passou de ano\")\n",
    "else:\n",
    "    print(\"O aluno foi reporvado\")\n"
   ]
  },
  {
   "cell_type": "markdown",
   "metadata": {},
   "source": [
    "<h2> 7. Faça um programa que mostre uma questão de múltipla escolha com\n",
    "5 opções (letras a, b, c, d, e e). Sabendo a resposta certa, o programa\n",
    "deve receber a opção do usuário e informar a letra que o usuário\n",
    "marcou e se a resposta está certa ou errada. </h2>"
   ]
  },
  {
   "cell_type": "markdown",
   "metadata": {},
   "source": [
    "<h2>8. Vamos fazer um programa para verificar quem é o assassino de um\n",
    "crime. Para descobrir o assassino, a polícia faz um pequeno\n",
    "questionário com 5 perguntas onde a resposta só pode ser sim ou não:  </h2>\n",
    "<p>a. Mora perto da vítima?  </p>\n",
    "<p>b. Já trabalhou com a vítima?  </p>\n",
    "<p>c. Telefonou para a vítima? </p>\n",
    "<p>d. Esteve no local do crime?  </p>\n",
    "<p>e. Devia para a vítima? </p>\n",
    "<p> Cada resposta sim dá um ponto para o suspeito. A polícia considera\n",
    "que os suspeitos com 5 pontos são os assassinos, com 4 a 3 pontos são\n",
    "cúmplices e 2 pontos são apenas suspeitos, necessitando outras\n",
    "investigações. Valores abaixo de 1 são liberados. \n",
    "</p>"
   ]
  },
  {
   "cell_type": "code",
   "execution_count": 57,
   "metadata": {
    "tags": []
   },
   "outputs": [
    {
     "output_type": "stream",
     "name": "stdout",
     "text": "É um cumplice do assasinato.\n"
    }
   ],
   "source": [
    "pontos = 0\n",
    "a = input(\"Mora perto da vítima?\")\n",
    "if (a == \"sim\"):\n",
    "    pontos += 1\n",
    "\n",
    "b = input(\"Já trabalhou com a vítima?\")\n",
    "if (b == \"sim\"):\n",
    "    pontos += 1\n",
    "\n",
    "c = input(\"Telefonou para a vítima?\")\n",
    "if (c == \"sim\"):\n",
    "    pontos += 1\n",
    "\n",
    "d = input(\"Esteve no local do crime?\")\n",
    "if (d == \"sim\"):\n",
    "    pontos += 1\n",
    "\n",
    "e = input(\"Devia para a vítima?\")\n",
    "if (e == \"sim\"):\n",
    "    pontos += 1\n",
    "\n",
    "if(pontos == 5):\n",
    "    print(\"É o assassino.\")\n",
    "elif(pontos >=3):\n",
    "    print(\"É um cumplice do assasinato.\")\n",
    "elif(pontos == 2):\n",
    "    print(\"Necessário novas investigações.\")\n",
    "else:\n",
    "    print(\"Inocente\")\n",
    "\n"
   ]
  },
  {
   "cell_type": "markdown",
   "metadata": {},
   "source": [
    "<h2>9. Um produto vai sofrer aumento de acordo com a Tabela 1 abaixo. Faça\n",
    "um programa que peça para o usuário digitar o valor do produto de\n",
    "acordo com o preço antigo e escreva uma das mensagens da Tabela\n",
    "2, de acordo com o preço reajustado: \n",
    " </h2>\n",
    " <table border=\"1\">\n",
    "<tr>\n",
    "<th>Preço antigo</th>\n",
    "<th>Percentual do aumento</th>\n",
    "</tr>\n",
    "<tr>\n",
    "<td>Até R$50 </td>\n",
    "<td>5%</td>\n",
    "</tr>\n",
    "<tr>\n",
    "<td>Entre R$50 e R$100</td>\n",
    "<td>10%</td>\n",
    "</tr>\n",
    "<tr>\n",
    "<td>Entre R$100 e R$150</td>\n",
    "<td>13%</td>\n",
    "</tr>\n",
    "<tr>\n",
    "<td>Acima deR$150</td>\n",
    "<td>15%</td>\n",
    "</tr>\n",
    "</table>\n",
    "    \n",
    "<table border=\"1\">\n",
    "<tr>\n",
    "<th>Preço novo</th>\n",
    "<th>Mensagem</th>\n",
    "</tr>\n",
    "<tr>\n",
    "<td>Até R$80 </td>\n",
    "<td>Barato</td>\n",
    "</tr>\n",
    "<tr>\n",
    "<td>Entre R$80 e R$115</td>\n",
    "<td>Razoável</td>\n",
    "</tr>\n",
    "<tr>\n",
    "<td>Entre R$115 e R$150</td>\n",
    "<td>Normal</td>\n",
    "</tr>\n",
    "<tr>\n",
    "<td>Entre R$150 e R$170</td>\n",
    "<td>Caro</td>\n",
    "</tr>\n",
    "<tr>\n",
    "<td>Acima de R$170</td>\n",
    "<td>Muito caro</td>\n",
    "</tr>\n",
    "</table>"
   ]
  },
  {
   "cell_type": "code",
   "execution_count": 78,
   "metadata": {
    "tags": []
   },
   "outputs": [
    {
     "output_type": "stream",
     "name": "stdout",
     "text": "O novo valor é muito caro ( 195.49999999999997 )\n"
    }
   ],
   "source": [
    "value = float(input(\"Insira o preço a ser atualizado\"))\n",
    "#Calcula o preco novo \n",
    "if(value <=0): \n",
    "    print(\"Preço inválido\")\n",
    "elif(value <=50):\n",
    "    value = value*1.05\n",
    "elif(value <=100):\n",
    "    value = value*1.10\n",
    "elif(value <=150):\n",
    "    value = value*1.13\n",
    "else:\n",
    "    value = value*1.15\n",
    "#Informa a mensagem referenta a segunda tabela\n",
    "if(value <= 0):\n",
    "    print(\"Erro\")\n",
    "elif(value <= 80):\n",
    "    print(\"O novo valor é barato (\",value,\")\")\n",
    "elif(value <= 115):\n",
    "    print(\"O novo valor é razoável (\",value,\")\")\n",
    "elif(value <= 150):\n",
    "    print(\"O novo valor é normal (\",value,\")\")\n",
    "elif(value <= 170):\n",
    "    print(\"O novo valor é caro (\",value,\")\")\n",
    "else:\n",
    "    print(\"O novo valor é muito caro (\",value,\")\")\n"
   ]
  },
  {
   "cell_type": "markdown",
   "metadata": {},
   "source": [
    "<h1> DESAFIOS</h1>\n"
   ]
  },
  {
   "cell_type": "markdown",
   "metadata": {},
   "source": [
    "<h2>1. Faça um programa que leia 3 números e informe o maior deles. </h2>"
   ]
  },
  {
   "cell_type": "code",
   "execution_count": 83,
   "metadata": {
    "tags": []
   },
   "outputs": [
    {
     "output_type": "stream",
     "name": "stdout",
     "text": "5.0\n"
    }
   ],
   "source": [
    "num1 = float(input(\"Insira o primeiro número\"))\n",
    "num2 = float(input(\"Insira o segundo número\"))\n",
    "num3 = float(input(\"Insira o terceiro número\"))\n",
    "\n",
    "if (num1 > num2) and (num1 > num3):\n",
    "    print(num1)\n",
    "elif(num2 > num1) and (num2 > num3):\n",
    "    print(num2)\n",
    "else:\n",
    "    print(num3)\n"
   ]
  },
  {
   "cell_type": "markdown",
   "metadata": {},
   "source": [
    "<h2>2. Faça o mesmo programa do exercício anterior, porém com 4\n",
    "números. </h2>"
   ]
  },
  {
   "cell_type": "code",
   "execution_count": 87,
   "metadata": {
    "tags": []
   },
   "outputs": [
    {
     "output_type": "stream",
     "name": "stdout",
     "text": "9.0\n"
    }
   ],
   "source": [
    "num1 = float(input(\"Insira o primeiro número\"))\n",
    "num2 = float(input(\"Insira o segundo número\"))\n",
    "num3 = float(input(\"Insira o terceiro número\"))\n",
    "num4 = float(input(\"Insita o quarto número\"))\n",
    "\n",
    "if (num1 > num2) and (num1 > num3) and (num1 > num4):\n",
    "    print(num1)\n",
    "elif(num2 > num1) and (num2 > num3) and (num2 > num4):\n",
    "    print(num2)\n",
    "elif(num3 > num1) and (num3 > num2) and (num3 > num4):\n",
    "    print(num3)\n",
    "else:\n",
    "    print(num4)\n",
    "#acredito que tenha maneiras mais simples de fazer"
   ]
  },
  {
   "cell_type": "markdown",
   "metadata": {},
   "source": [
    "<h2>Um hospital quer fazer o diagnóstico de gripe ou dengue a partir de\n",
    "um questionário de sintomas, tendo as perguntas abaixo, faça um\n",
    "programa que faça o diagnóstico deste hospital: </h2>\n",
    "<p>a. Sente dor no corpo?</p>\n",
    "<p>b. Você tem febre? </p>\n",
    "<p>c. Você tem tosse? </p>\n",
    "<p>d. Está com congestão nasal? </p>\n",
    "<p>e. Tem manchas pelo corpo?  </p>\n",
    "<p>Para o diagnóstico ele tem a seguinte tabela: </p>\n",
    "\n",
    "<table border =\"1\">\n",
    "<tr>\n",
    "<th> A </th>\n",
    "<th> B </th>\n",
    "<th> c </th>\n",
    "<th> D </th>\n",
    "<th> E </th>\n",
    "<th> Resultado </th>\n",
    "</tr>\n",
    "<tr>\n",
    "<td> Sim </td>\n",
    "<td> Sim </td>\n",
    "<td> Não </td>\n",
    "<td> Não </td>\n",
    "<td> Sim </td>\n",
    "<td> Dengue </td>\n",
    "</tr>\n",
    "<tr>\n",
    "<td> Sim </td>\n",
    "<td> Sim </td>\n",
    "<td> Sim </td>\n",
    "<td> Sim </td>\n",
    "<td> Não </td>\n",
    "<td> Gripe </td>\n",
    "</tr>\n",
    "<tr>\n",
    "<td> Não </td>\n",
    "<td> Sim </td>\n",
    "<td> Sim </td>\n",
    "<td> Sim </td>\n",
    "<td> Não </td>\n",
    "<td> Gripe </td>\n",
    "</tr>\n",
    "<tr>\n",
    "<td> Sim </td>\n",
    "<td> Não </td>\n",
    "<td> Não </td>\n",
    "<td> Não </td>\n",
    "<td> Não </td>\n",
    "<td> Sem doenças </td>\n",
    "</tr>\n",
    "<tr>\n",
    "<td> Não </td>\n",
    "<td> Não </td>\n",
    "<td> Não </td>\n",
    "<td> Não </td>\n",
    "<td> Não </td>\n",
    "<td> Sem doenças </td>\n",
    "</tr>    \n",
    "</table>"
   ]
  },
  {
   "cell_type": "code",
   "execution_count": 98,
   "metadata": {
    "tags": []
   },
   "outputs": [
    {
     "output_type": "stream",
     "name": "stdout",
     "text": "Responda as perguntas com sim ou não\nO paciente não está doente\n"
    }
   ],
   "source": [
    "#fiz um esquema para que o diagnóstico seja feito no menor número de perguntas \n",
    "#eu sei que na prática (pensando em um hospital) isso seria meio catastrófico\n",
    "#mas tem algumas combinações de \"sim\" e \"não\" que não gerariam nada\n",
    "#porém acho que ficou legal como estudo kkkkkkkk\n",
    "\n",
    "print(\"Responda as perguntas com sim ou não\")\n",
    "a = (input(\"Sente dor no corpo?\"))\n",
    "if(a == \"sim\"):                               #(a-S)\n",
    "    b = (input(\"Você tem febre?\"))\n",
    "    if(b == \"sim\"):                           #(a-S ; b-S)\n",
    "        c = (input(\"Você tem tosse?\"))\n",
    "        if(c == \"sim\"):                       #(a-S ; b-S ; c-S)\n",
    "            print(\"O paciente está gripado\")\n",
    "        else:                                 #(a-S ; b-S ; c-N)\n",
    "            print(\"O paciente está com dengue\")\n",
    "    else:                                     #(a-S ; b-N)\n",
    "        print(\"O paciente não está doente\")\n",
    "else:\n",
    "    b = (input(\"Você tem febre?\"))\n",
    "    if(b == \"sim\"):                           #(a-N ; b-S)\n",
    "        print(\"O paciente está gripado\")\n",
    "    else:                                     #(a-N ; b-N)\n",
    "        print(\"O paciente não está doente\")\n"
   ]
  },
  {
   "cell_type": "markdown",
   "metadata": {},
   "source": []
  }
 ]
}