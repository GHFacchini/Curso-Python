{
 "metadata": {
  "language_info": {
   "codemirror_mode": {
    "name": "ipython",
    "version": 3
   },
   "file_extension": ".py",
   "mimetype": "text/x-python",
   "name": "python",
   "nbconvert_exporter": "python",
   "pygments_lexer": "ipython3",
   "version": 3
  },
  "orig_nbformat": 2,
  "kernelspec": {
   "name": "python_defaultSpec_1597172443743",
   "display_name": "Python 3.8.3 64-bit ('base': conda)"
  }
 },
 "nbformat": 4,
 "nbformat_minor": 2,
 "cells": [
  {
   "cell_type": "markdown",
   "metadata": {},
   "source": [
    "<h1>Exercicios while </h1>\n",
    "\n"
   ]
  },
  {
   "cell_type": "markdown",
   "metadata": {},
   "source": [
    "<h2> </h2>"
   ]
  },
  {
   "cell_type": "markdown",
   "metadata": {},
   "source": [
    "<h2>1. Faça um programa que peça ao usuário um número e imprima todos\n",
    "os números de um até o número dado.\n",
    " </h2>\n",
    " <p> Exemplo: digite: 5, imprime: 1 2 3 4 5 </p>"
   ]
  },
  {
   "cell_type": "code",
   "execution_count": 17,
   "metadata": {
    "tags": []
   },
   "outputs": [
    {
     "output_type": "stream",
     "name": "stdout",
     "text": "1\n0\n-1\n-2\n-3\n-4\n-5\n"
    }
   ],
   "source": [
    "num = int(input(\"Insira um número: \"))\n",
    "i = 1\n",
    "if(num > 0):\n",
    "    while (i <= num):\n",
    "        print(i)\n",
    "        i += 1\n",
    "else:\n",
    "    while (i >= num): #condição inversa\n",
    "        print(i)\n",
    "        i-=1"
   ]
  },
  {
   "cell_type": "code",
   "execution_count": 19,
   "metadata": {
    "tags": []
   },
   "outputs": [
    {
     "output_type": "stream",
     "name": "stdout",
     "text": "1\n0\n-1\n-2\n-3\n-4\n-5\n-6\n-7\n-8\n-9\n-10\n"
    }
   ],
   "source": [
    "#testando a possíbilidade de iniciar com i = 0 e incrementar antes do print (não funcionou com os valores negativos)\n",
    "num = int(input(\"Insira um número: \"))\n",
    "if(num >0):\n",
    "    i = 0\n",
    "    while (i < num): #porém a condição tem que ser i < num \n",
    "        i += 1\n",
    "        print(i)\n",
    "else:\n",
    "    i = 1 \n",
    "    while (i >= num): #fica mais difici fazer os números negativos \n",
    "           print(i)\n",
    "           i -= 1\n",
    "\n",
    "            \n",
    "\n",
    "    "
   ]
  },
  {
   "cell_type": "markdown",
   "metadata": {},
   "source": [
    "<h2>2. Peça ao usuário para digitar um número n e some todos os números\n",
    "de 1 a n </h2>"
   ]
  },
  {
   "cell_type": "code",
   "execution_count": 22,
   "metadata": {
    "tags": []
   },
   "outputs": [
    {
     "output_type": "stream",
     "name": "stdout",
     "text": "-14\n"
    }
   ],
   "source": [
    "num = int(input(\"Insira um número: \"))\n",
    "i = 1\n",
    "soma = 0\n",
    "if(num > 0):\n",
    "    while (i <= num):\n",
    "        soma = soma+i\n",
    "        i += 1\n",
    "else:\n",
    "    while (i >= num):\n",
    "        soma = soma+i\n",
    "        i -= 1\n",
    "print(soma)\n",
    "    "
   ]
  },
  {
   "cell_type": "markdown",
   "metadata": {},
   "source": [
    "<h2>3. Peça ao usuário para digitar um número e imprima o fatorial de n.  </h2>"
   ]
  },
  {
   "cell_type": "code",
   "execution_count": 23,
   "metadata": {
    "tags": []
   },
   "outputs": [
    {
     "output_type": "stream",
     "name": "stdout",
     "text": "120\n"
    }
   ],
   "source": [
    "#Observacao fatorial nao adimite numero negativo \n",
    "num = int(input(\"Insira um número: \"))\n",
    "i = 1\n",
    "fatorial = 1 #tem que começar com 1 pois se não fica 0 infinitamente\n",
    "\n",
    "while (i <= num):\n",
    "    fatorial = fatorial*i\n",
    "    i += 1\n",
    "print(fatorial)\n",
    "    "
   ]
  },
  {
   "cell_type": "markdown",
   "metadata": {},
   "source": [
    "<h2>4. Faça um programa que imprima a tabuada do 9 (de 9*1 a 9*10) usando\n",
    "loops.  </h2>"
   ]
  },
  {
   "cell_type": "code",
   "execution_count": 24,
   "metadata": {
    "tags": []
   },
   "outputs": [
    {
     "output_type": "stream",
     "name": "stdout",
     "text": "9 X 1 = 9\n9 X 2 = 18\n9 X 3 = 27\n9 X 4 = 36\n9 X 5 = 45\n9 X 6 = 54\n9 X 7 = 63\n9 X 8 = 72\n9 X 9 = 81\n9 X 10 = 90\n"
    }
   ],
   "source": [
    "i = 1\n",
    "while (i <= 10 ):\n",
    "    print(\"9 X\",i,\"=\",9*i)\n",
    "    i+=1\n",
    "\n"
   ]
  },
  {
   "cell_type": "markdown",
   "metadata": {},
   "source": [
    "<h2>5. Faça um programa que recebe um número inteiro do usuário e\n",
    "imprime na tela a quantidade de divisores desse número e quais são\n",
    "eles.  </h2>"
   ]
  },
  {
   "cell_type": "code",
   "execution_count": 26,
   "metadata": {
    "tags": []
   },
   "outputs": [
    {
     "output_type": "stream",
     "name": "stdout",
     "text": "1\n19\n\nO número é primo\n19 tem 2 divisores\n"
    }
   ],
   "source": [
    "num = int(input(\"Insira um número: \"))\n",
    "i = 1\n",
    "div =0\n",
    "while (i <= num):\n",
    "    if(num % i == 0 ):\n",
    "        print(i)\n",
    "        div += 1\n",
    "    i += 1\n",
    "print()\n",
    "if(div ==2):\n",
    "    print(\"O número é primo\")\n",
    "\n",
    "print(num,\"tem\",div,\"divisores\")"
   ]
  },
  {
   "cell_type": "markdown",
   "metadata": {},
   "source": [
    "<h2>6. Faça um programa, usando loops, que peça para um usuário digitar\n",
    "um número e que só finaliza quando o usuário digitar 0. Ao final\n",
    "imprima a soma de todos os números digitados.  </h2>"
   ]
  },
  {
   "cell_type": "code",
   "execution_count": 82,
   "metadata": {
    "tags": []
   },
   "outputs": [
    {
     "output_type": "stream",
     "name": "stdout",
     "text": "5.0\n"
    }
   ],
   "source": [
    "x = 1\n",
    "soma = 0 \n",
    "while(x != 0):\n",
    "    x = float(input(\"Insira um número para ser somado. Ao finalizar digite 0\"))\n",
    "    soma = soma + x\n",
    "print(soma)   "
   ]
  },
  {
   "cell_type": "markdown",
   "metadata": {},
   "source": [
    "<h2>7. Faça um programa que sorteia um número N e peça para o usuário\n",
    "adivinhar o número sorteado. A cada resposta errada, o seu programa\n",
    "deve imprimir um aviso dizendo que a resposta está errada e pedir\n",
    "novamente uma resposta ao usuário.  </h2>"
   ]
  },
  {
   "cell_type": "code",
   "execution_count": 15,
   "metadata": {
    "tags": []
   },
   "outputs": [
    {
     "output_type": "stream",
     "name": "stdout",
     "text": "Parabéns você acertou!\n"
    }
   ],
   "source": [
    "import random\n",
    "random_num = random.randint(0,2)\n",
    "num = int(input(\"Adivinhe o número sorteado: \"))\n",
    "while(num != random_num):\n",
    "    print(\"Você errou tente novamente!\")\n",
    "    num = int(input(\"Adivinhe o número sorteado: \"))\n",
    "print(\"Parabéns você acertou!\")\n",
    "\n"
   ]
  },
  {
   "cell_type": "markdown",
   "metadata": {},
   "source": [
    "<h2>8. Faça um programa que peça para o usuário digitar a idade, o salário\n",
    "e o sexo de uma pessoa até que as entradas digitadas sejam válidas.\n",
    "a. Idade: entre 0 e 150;\n",
    "b. Salário: maior que 0;\n",
    "c. Sexo: M, F ou Outro. </h2>"
   ]
  },
  {
   "cell_type": "code",
   "execution_count": 106,
   "metadata": {
    "tags": []
   },
   "outputs": [
    {
     "output_type": "stream",
     "name": "stdout",
     "text": "Erro, idade inválida.\nErro, idade inválida.\nErro, salário inválido.\nErro, salário inválido.\nErro, sexo inválido.\nErro, sexo inválido.\n"
    }
   ],
   "source": [
    "i = True\n",
    "while(i):\n",
    "    idade = int(input(\"Informe a sua idade: \"))\n",
    "    if (idade < 0) or (idade > 150):\n",
    "        print(\"Erro, idade inválida.\")\n",
    "        i = True\n",
    "    else:\n",
    "        i = False\n",
    "i = True\n",
    "while(i):\n",
    "    salario = float(input(\"Informe o seu salário: \"))\n",
    "    if (salario < 0):\n",
    "        print(\"Erro, salário inválido.\")\n",
    "        i = True\n",
    "    else:\n",
    "        i = False\n",
    "i = True\n",
    "while(i):\n",
    "    sexo = input(\"Informe o seu sexo(F/M/Outro): \")\n",
    "    if (sexo != \"m\") and (sexo != \"M\") and (sexo != \"f\") and (sexo != \"F\") and (sexo != \"Outro\") and (sexo != \"outro\") and (sexo !=     \"OUTRO\"):\n",
    "        print(\"Erro, sexo inválido.\")\n",
    "        i = True\n",
    "    else:\n",
    "        i = False\n",
    "\n",
    "print(\"Idade\",idade)\n",
    "print(\"Salário\",salario)\n",
    "print(\"Sexo\",sexo)"
   ]
  },
  {
   "cell_type": "markdown",
   "metadata": {},
   "source": [
    "<h1> DESAFIOS </h1>\n"
   ]
  },
  {
   "cell_type": "markdown",
   "metadata": {},
   "source": [
    "<h2> 1. Calcule a soma de até mil termos da série 1 + 1/2 + 1/4 + 1/8 + 1/16 + ...\n",
    "Dica: Use três variáveis:</h2>\n",
    "<p>  um contador, que começa em zero;</p>\n",
    "<p>  uma variável para a soma de todos os termos, que também\n",
    "começa em zero;</p>\n",
    "<p>  uma variável para cada termo, que começa em 1 e a cada loop é dividida por 2.</p>\n",
    "<p> A repetição da soma de mil termos pode ser feita com a função while\n",
    "contador < 1000. </p>"
   ]
  },
  {
   "cell_type": "code",
   "execution_count": 37,
   "metadata": {
    "tags": []
   },
   "outputs": [
    {
     "output_type": "stream",
     "name": "stdout",
     "text": "2.0\n"
    }
   ],
   "source": [
    "i = 0\n",
    "n = 1\n",
    "soma = 0 \n",
    "while (i < 1000):\n",
    "    soma = soma + n\n",
    "    n = n/2\n",
    "    i+=1\n",
    "print(soma)\n",
    "#o resutado é 2 porém na realidade é o limite de 2 "
   ]
  },
  {
   "cell_type": "markdown",
   "metadata": {},
   "source": [
    "<h2>Super Desafio! - Calcule a soma de mil termos dos inversos dos\n",
    "fatoriais: 1/(1!) + 1/(2!) + 1/(3!) + 1/(4!) + ...</h2>\n",
    "<p>Dica: Assim como no exercício anterior use três variáveis: um\n",
    "contador; uma variável para a soma; e uma variável para os termos.\n",
    "Lembre-se de que 4! = 4*3*2*1 que também é igual a 4*3 </p>"
   ]
  },
  {
   "cell_type": "code",
   "execution_count": 7,
   "metadata": {
    "tags": []
   },
   "outputs": [
    {
     "output_type": "stream",
     "name": "stdout",
     "text": "1.691030206757254\n"
    }
   ],
   "source": [
    "i = 1\n",
    "soma = 1 #soma ja começa como 1 pq no primeiro while n = 2!\n",
    "         # se eu começar n = 0 a multiplicação \"não funciona\"\n",
    "n = 1\n",
    "while (i < 10):\n",
    "    n = n * (n+1)\n",
    "    soma = soma + (1/n)\n",
    "    i+=1\n",
    "print(soma)"
   ]
  },
  {
   "cell_type": "code",
   "execution_count": null,
   "metadata": {},
   "outputs": [],
   "source": []
  }
 ]
}