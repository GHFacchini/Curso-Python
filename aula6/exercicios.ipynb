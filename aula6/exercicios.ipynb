{
 "metadata": {
  "language_info": {
   "codemirror_mode": {
    "name": "ipython",
    "version": 3
   },
   "file_extension": ".py",
   "mimetype": "text/x-python",
   "name": "python",
   "nbconvert_exporter": "python",
   "pygments_lexer": "ipython3",
   "version": "3.8.3-final"
  },
  "orig_nbformat": 2,
  "kernelspec": {
   "name": "python_defaultSpec_1598310310839",
   "display_name": "Python 3.8.3 64-bit ('base': conda)"
  }
 },
 "nbformat": 4,
 "nbformat_minor": 2,
 "cells": [
  {
   "cell_type": "markdown",
   "metadata": {},
   "source": [
    "<h1> Funções </h1>"
   ]
  },
  {
   "cell_type": "markdown",
   "metadata": {},
   "source": [
    "<h2>1. Faça uma função que recebe um número e imprime seu dobro.\n",
    " </h2>"
   ]
  },
  {
   "cell_type": "code",
   "execution_count": 2,
   "metadata": {},
   "outputs": [],
   "source": [
    "def dobro(x):\n",
    "    print(x*2)"
   ]
  },
  {
   "cell_type": "code",
   "execution_count": 3,
   "metadata": {
    "tags": []
   },
   "outputs": [
    {
     "output_type": "stream",
     "name": "stdout",
     "text": "20\n"
    }
   ],
   "source": [
    "dobro(10)"
   ]
  },
  {
   "cell_type": "markdown",
   "metadata": {},
   "source": [
    "<h2>2. Faça uma função que recebe o valor do raio de um círculo e retorna o\n",
    "valor do comprimento de sua circunferência: C = 2*pi*r. </h2>"
   ]
  },
  {
   "cell_type": "code",
   "execution_count": 8,
   "metadata": {},
   "outputs": [],
   "source": [
    "def comp_circ(x):\n",
    "    comp = 2 * 3.14159 * x\n",
    "    return comp\n",
    "    "
   ]
  },
  {
   "cell_type": "code",
   "execution_count": 9,
   "metadata": {
    "tags": []
   },
   "outputs": [
    {
     "output_type": "stream",
     "name": "stdout",
     "text": "31.4159\n"
    }
   ],
   "source": [
    "print(comp_circ(5))"
   ]
  },
  {
   "cell_type": "markdown",
   "metadata": {},
   "source": [
    "<h2>3. Faça uma função para cada operação matemática básica (soma,\n",
    "subtração, multiplicação e divisão). As funções devem receber dois\n",
    "números e retornar o resultado da operação. </h2>"
   ]
  },
  {
   "cell_type": "code",
   "execution_count": 27,
   "metadata": {},
   "outputs": [],
   "source": [
    "def calc(x, y):\n",
    "    print(\"Insira o número referente à operação: \")\n",
    "    print(\"1 - Adição\")\n",
    "    print(\"2 - Subtração\")\n",
    "    print(\"3 - Multiplicação\")\n",
    "    print(\"4 - Divisão\")\n",
    "    op = input()\n",
    "    if op == \"1\":\n",
    "        out = (x + y)\n",
    "    elif op == \"2\":\n",
    "        out = (x - y)\n",
    "    elif op == \"3\":\n",
    "        out = (x * y)\n",
    "    elif op == \"4\":\n",
    "        out = (x / y)\n",
    "    else:\n",
    "        out = \"Operação não reconhecida\"\n",
    "    return out"
   ]
  },
  {
   "cell_type": "code",
   "execution_count": 30,
   "metadata": {
    "tags": []
   },
   "outputs": [
    {
     "output_type": "stream",
     "name": "stdout",
     "text": "Insira o número referente à operação: \n1 - Adição\n2 - Subtração\n3 - Multiplicação\n4 - Divisão\nOperação não reconhecida\n"
    }
   ],
   "source": [
    "print(calc(10, 4))"
   ]
  },
  {
   "cell_type": "markdown",
   "metadata": {},
   "source": [
    "<h2>4. Faça uma função que recebe um nome e imprime “olá, [nome]”. </h2>"
   ]
  },
  {
   "cell_type": "code",
   "execution_count": 33,
   "metadata": {},
   "outputs": [],
   "source": [
    "def saudacao(nome):\n",
    "    print(\"olá,\",nome)"
   ]
  },
  {
   "cell_type": "code",
   "execution_count": 34,
   "metadata": {
    "tags": []
   },
   "outputs": [
    {
     "output_type": "stream",
     "name": "stdout",
     "text": "olá, Gabriel\n"
    }
   ],
   "source": [
    "saudacao(\"Gabriel\")"
   ]
  },
  {
   "cell_type": "markdown",
   "metadata": {},
   "source": [
    "<h2>5. Faça uma função que recebe um nome e um horário e imprime “Bom\n",
    "dia, [nome]”, caso seja antes de 12h, “Boa Tarde, [nome]”, caso seja\n",
    "entre 12h e 18h e “Boa noite, [nome]” se for após às 18h. </h2>"
   ]
  },
  {
   "cell_type": "code",
   "execution_count": 35,
   "metadata": {},
   "outputs": [],
   "source": [
    "def saudacaov2(nome, hora):\n",
    "    if hora <= 12:\n",
    "        print(\"Bom dia,\",nome)\n",
    "    elif hora <= 18:\n",
    "        print(\"Boa tarde,\",nome)\n",
    "    elif hora <= 24:\n",
    "        print(\"Boa noite,\",nome)\n",
    "    else:\n",
    "        print(\"erro\")"
   ]
  },
  {
   "cell_type": "code",
   "execution_count": 44,
   "metadata": {
    "tags": []
   },
   "outputs": [
    {
     "output_type": "stream",
     "name": "stdout",
     "text": "Bom dia, Gabriel\n"
    }
   ],
   "source": [
    "saudacaov2(\"Gabriel\", 11)"
   ]
  },
  {
   "cell_type": "markdown",
   "metadata": {},
   "source": [
    "<h2>6. Faça uma função que recebe um número e retorna True se ele é par\n",
    "ou False, se ele é ímpar. </h2>"
   ]
  },
  {
   "cell_type": "code",
   "execution_count": 45,
   "metadata": {},
   "outputs": [],
   "source": [
    "def par(x):\n",
    "    if x % 2 == 0:\n",
    "        return True\n",
    "    else:\n",
    "        return False"
   ]
  },
  {
   "cell_type": "code",
   "execution_count": 49,
   "metadata": {},
   "outputs": [
    {
     "output_type": "execute_result",
     "data": {
      "text/plain": "True"
     },
     "metadata": {},
     "execution_count": 49
    }
   ],
   "source": [
    "par(12)"
   ]
  },
  {
   "cell_type": "markdown",
   "metadata": {},
   "source": [
    "<h2>7. Faça uma função que sorteia 10 números aleatórios entre 0 e 100 e\n",
    "retorna o maior entre eles. </h2>"
   ]
  },
  {
   "cell_type": "code",
   "execution_count": 61,
   "metadata": {},
   "outputs": [],
   "source": [
    "def sorteio():\n",
    "    import random\n",
    "    aux = 0\n",
    "    for i in range(10):\n",
    "        random_num = random.randint(0,100)\n",
    "        if random_num > aux:\n",
    "            aux = random_num\n",
    "    return aux\n"
   ]
  },
  {
   "cell_type": "code",
   "execution_count": 62,
   "metadata": {
    "tags": []
   },
   "outputs": [
    {
     "output_type": "execute_result",
     "data": {
      "text/plain": "93"
     },
     "metadata": {},
     "execution_count": 62
    }
   ],
   "source": [
    "sorteio()"
   ]
  },
  {
   "cell_type": "markdown",
   "metadata": {},
   "source": [
    "<h2>8. Faça uma função que recebe um número n de entrada, sorteia n\n",
    "números aleatórios entre 0 e 100 e retorna a média deles. </h2>"
   ]
  },
  {
   "cell_type": "code",
   "execution_count": 72,
   "metadata": {},
   "outputs": [],
   "source": [
    "def sorteio2(x):\n",
    "    import random\n",
    "    med = 0\n",
    "    for i in range(x):\n",
    "        random_num = random.randint(0,100)\n",
    "        med = med + (random_num/x)\n",
    "    return med"
   ]
  },
  {
   "cell_type": "code",
   "execution_count": 73,
   "metadata": {
    "tags": []
   },
   "outputs": [
    {
     "output_type": "execute_result",
     "data": {
      "text/plain": "64.1"
     },
     "metadata": {},
     "execution_count": 73
    }
   ],
   "source": [
    "sorteio2(10)"
   ]
  },
  {
   "cell_type": "markdown",
   "metadata": {},
   "source": [
    "<h2>9. Faça uma função que recebe uma lista de palavras e retorna uma lista\n",
    "contendo as mesmas palavras da lista anterior, porém escritas em\n",
    "caixa alta. </h2>"
   ]
  },
  {
   "cell_type": "code",
   "execution_count": 82,
   "metadata": {},
   "outputs": [],
   "source": [
    "def upper(lista):\n",
    "    lista2 = []\n",
    "    for i in lista:\n",
    "        lista2.append(i.upper())\n",
    "    return lista2"
   ]
  },
  {
   "cell_type": "code",
   "execution_count": 83,
   "metadata": {
    "tags": []
   },
   "outputs": [
    {
     "output_type": "execute_result",
     "data": {
      "text/plain": "['ABCD', 'BLA BLA BLA', 'A', 'B', 'C']"
     },
     "metadata": {},
     "execution_count": 83
    }
   ],
   "source": [
    "lista = [\"abcd\", \"bla bla bla\", \"a\", \"b\",\"c\"]\n",
    "upper(lista)"
   ]
  },
  {
   "cell_type": "markdown",
   "metadata": {},
   "source": [
    "<h2>10. Faça uma função que recebe duas listas e retorna a soma item a item\n",
    "dessas listas.\n",
    "Exemplo: Se a função receber as listas [1,4,3] e [3,5,1], então a\n",
    "função deve retornar [1+3, 4+5, 3+1] = [4, 9, 4]. </h2>"
   ]
  },
  {
   "cell_type": "code",
   "execution_count": 94,
   "metadata": {},
   "outputs": [],
   "source": [
    "def soma_lista(a,b):\n",
    "    c = []\n",
    "    for i in range(len(a)):\n",
    "        c.append(a[i] + b[i])\n",
    "    return(c)\n",
    "\n"
   ]
  },
  {
   "cell_type": "code",
   "execution_count": 96,
   "metadata": {
    "tags": []
   },
   "outputs": [
    {
     "output_type": "stream",
     "name": "stdout",
     "text": "[6, 3, 9]\n"
    }
   ],
   "source": [
    "lista =[1,2,4]\n",
    "lista2 =[5,1,5]\n",
    "print(soma_lista(lista, lista2))"
   ]
  },
  {
   "cell_type": "markdown",
   "metadata": {},
   "source": [
    "<h2>11. Faça uma função que receba duas listas e retorne o produto item a\n",
    "item dessas listas. \n",
    "Exemplo: Se a função receber as listas [1,4,3] e [3,5,1], então a\n",
    "função deve retornar [1x3, 4x5, 3x1] = [3, 20, 3]. </h2>"
   ]
  },
  {
   "cell_type": "code",
   "execution_count": 97,
   "metadata": {},
   "outputs": [],
   "source": [
    "def mult_lista(a,b):\n",
    "    c = []\n",
    "    for i in range(len(a)):\n",
    "        c.append(a[i] * b[i])\n",
    "    return(c)"
   ]
  },
  {
   "cell_type": "code",
   "execution_count": 99,
   "metadata": {
    "tags": []
   },
   "outputs": [
    {
     "output_type": "stream",
     "name": "stdout",
     "text": "[5, 6, 20]\n"
    }
   ],
   "source": [
    "lista =[1,2,4]\n",
    "lista2 =[5,3,5]\n",
    "print(mult_lista(lista, lista2))"
   ]
  },
  {
   "cell_type": "markdown",
   "metadata": {},
   "source": [
    "<h2>12. Faça uma função que recebe um número x e uma lista numérica e\n",
    "retorna uma lista cujos elementos são os itens da lista de entrada\n",
    "multiplicado por x.\n",
    "Exemplo: se a função receber o número 5 e a lista [3,5,1], então a\n",
    "função deve retornar [5x3, 5x5, 5x1] = [15, 25, 5]. </h2>"
   ]
  },
  {
   "cell_type": "code",
   "execution_count": 100,
   "metadata": {},
   "outputs": [],
   "source": [
    "def mult_lista2(x,a):\n",
    "    c = []\n",
    "    for i in range(len(a)):\n",
    "        c.append(x * a[i])\n",
    "    return(c)"
   ]
  },
  {
   "cell_type": "code",
   "execution_count": 103,
   "metadata": {
    "tags": []
   },
   "outputs": [
    {
     "output_type": "stream",
     "name": "stdout",
     "text": "[21, 35, 7]\n"
    }
   ],
   "source": [
    "lista = [3,5,1]\n",
    "print(mult_lista2(7, lista))"
   ]
  },
  {
   "cell_type": "markdown",
   "metadata": {},
   "source": [
    "<h2>13. Faça uma função que recebe uma lista de números e retorna a soma\n",
    "dos elementos dessa lista. </h2>"
   ]
  },
  {
   "cell_type": "code",
   "execution_count": 106,
   "metadata": {},
   "outputs": [],
   "source": [
    "def soma_lista2(a):\n",
    "    soma = 0\n",
    "    for i in a:\n",
    "        soma = soma + i\n",
    "    return soma"
   ]
  },
  {
   "cell_type": "code",
   "execution_count": 107,
   "metadata": {
    "tags": []
   },
   "outputs": [
    {
     "output_type": "stream",
     "name": "stdout",
     "text": "27\n"
    }
   ],
   "source": [
    "lista = [1,3,6,7,10]\n",
    "print(soma_lista2(lista))"
   ]
  },
  {
   "cell_type": "markdown",
   "metadata": {},
   "source": [
    "<h2>14. Faça uma função que recebe uma lista de números e retorna a média\n",
    "aritmética dos elementos dessa lista. </h2>"
   ]
  },
  {
   "cell_type": "code",
   "execution_count": 108,
   "metadata": {},
   "outputs": [],
   "source": [
    "def med_lista(a):\n",
    "    med = 0\n",
    "    for i in a:\n",
    "        med = med + (i/len(a))\n",
    "    return med\n"
   ]
  },
  {
   "cell_type": "code",
   "execution_count": 113,
   "metadata": {
    "tags": []
   },
   "outputs": [
    {
     "output_type": "stream",
     "name": "stdout",
     "text": "33.900000000000006\n"
    }
   ],
   "source": [
    "lista = [1,20,12,7,48,6,72,26,56,91]\n",
    "print(med_lista(lista))"
   ]
  },
  {
   "cell_type": "code",
   "execution_count": null,
   "metadata": {},
   "outputs": [],
   "source": []
  }
 ]
}